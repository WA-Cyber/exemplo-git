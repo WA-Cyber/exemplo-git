{
  "nbformat": 4,
  "nbformat_minor": 0,
  "metadata": {
    "colab": {
      "name": "Untitled2.ipynb",
      "provenance": [],
      "collapsed_sections": [],
      "authorship_tag": "ABX9TyN5bSIc0AcNxFiBqC44lnvR",
      "include_colab_link": true
    },
    "kernelspec": {
      "name": "python3",
      "display_name": "Python 3"
    },
    "language_info": {
      "name": "python"
    }
  },
  "cells": [
    {
      "cell_type": "markdown",
      "metadata": {
        "id": "view-in-github",
        "colab_type": "text"
      },
      "source": [
        "<a href=\"https://colab.research.google.com/github/WA-Cyber/exemplo-git/blob/main/3020111087.ipynb\" target=\"_parent\"><img src=\"https://colab.research.google.com/assets/colab-badge.svg\" alt=\"Open In Colab\"/></a>"
      ]
    },
    {
      "cell_type": "code",
      "metadata": {
        "colab": {
          "base_uri": "https://localhost:8080/"
        },
        "id": "Lg7KU70Z5IYB",
        "outputId": "2f881ca0-2195-4d07-b57b-94652f0565c5"
      },
      "source": [
        "#Exercícios \n",
        "# 1.Verifique se uma letra digitada  ́e vogal ou consoante.\n",
        "\n",
        "alfa = input(\"Informe uma letra ou consoante:\")\n",
        "\n",
        "if alfa ==\"a\":\n",
        "    print(\"Vogal\")\n",
        "elif alfa == \"e\":\n",
        "    print(\"Vogal\")\n",
        "elif alfa == \"i\":\n",
        "    print(\"Vogal\")\n",
        "elif alfa == \"o\":\n",
        "    print(\"Vogal\")\n",
        "elif alfa == \"u\":\n",
        "    print(\"Vogal\")\n",
        "    print(\"Insira uma letra ou consoante\")\n",
        "else:\n",
        "    print(\"Consoante\")"
      ],
      "execution_count": null,
      "outputs": [
        {
          "output_type": "stream",
          "text": [
            "Informe uma letra ou consoante:j\n",
            "Consoante\n"
          ],
          "name": "stdout"
        }
      ]
    },
    {
      "cell_type": "code",
      "metadata": {
        "colab": {
          "base_uri": "https://localhost:8080/"
        },
        "id": "rP23u7eL7GFn",
        "outputId": "7726be71-4d0f-409d-abdb-953e6a288c0e"
      },
      "source": [
        "# 2.Leia três números e mostre o maior deles.\n",
        "\n",
        "a = 9\n",
        "b = 7\n",
        "c = -8\n",
        "tmp = 0\n",
        "\n",
        "if (a > c):\n",
        "    tmp = c\n",
        "    c = a\n",
        "    a = tmp\n",
        "\n",
        "if (a > b):\n",
        "    tmp = b\n",
        "    b = a\n",
        "    a = tmp\n",
        "\n",
        "if (b > c):\n",
        "    tmp = c\n",
        "    c = b\n",
        "    b = tmp\n",
        "\n",
        "print(a, b, c)\n",
        "\n"
      ],
      "execution_count": null,
      "outputs": [
        {
          "output_type": "stream",
          "text": [
            "-8 7 9\n"
          ],
          "name": "stdout"
        }
      ]
    },
    {
      "cell_type": "code",
      "metadata": {
        "colab": {
          "base_uri": "https://localhost:8080/"
        },
        "id": "Tv6PhcEf8mvM",
        "outputId": "515c009f-edae-47b0-b9fa-39b38aa58c30"
      },
      "source": [
        "# 3.Leia três números e mostre-os em ordem decrescente.\n",
        "\n",
        "a = 5\n",
        "b = 12\n",
        "c = 9\n",
        "if a < c:\n",
        "    a, c = c, a\n",
        "\n",
        "if a < b:\n",
        "    a, b = b, a\n",
        "\n",
        "if b < c:\n",
        "    b, c = c, b\n",
        "\n",
        "print(f'A ordem decrescente é {a}, {b} e {c}')"
      ],
      "execution_count": null,
      "outputs": [
        {
          "output_type": "stream",
          "text": [
            "A ordem decrescente é 12, 9 e 5\n"
          ],
          "name": "stdout"
        }
      ]
    },
    {
      "cell_type": "code",
      "metadata": {
        "colab": {
          "base_uri": "https://localhost:8080/"
        },
        "id": "FU6lbVFt91mv",
        "outputId": "1c37ef3d-ee85-4b90-986b-032bc71458ed"
      },
      "source": [
        "# 4.Leia três números e mostre o maior e o menor deles.\n",
        "\n",
        "n1 = 5\n",
        "n2 = 4\n",
        "n3 = 8\n",
        "\n",
        "maior = n1\n",
        "menor = n1\n",
        "\n",
        "if maior < n2:\n",
        "\tmaior = n2\n",
        "\n",
        "if maior < n3: \n",
        "\tmaior = n3\n",
        "\n",
        "if menor > n2:\n",
        "\tmenor = n2\n",
        "\n",
        "if menor > n3:\n",
        "\tmenor = n3\n",
        "\n",
        "print ('Maior:  %d ' %maior)\n",
        "print ('Menor:  %d ' %menor)\n"
      ],
      "execution_count": null,
      "outputs": [
        {
          "output_type": "stream",
          "text": [
            "Maior:  8 \n",
            "Menor:  4 \n"
          ],
          "name": "stdout"
        }
      ]
    },
    {
      "cell_type": "code",
      "metadata": {
        "colab": {
          "base_uri": "https://localhost:8080/"
        },
        "id": "M2o4AqHS_lCx",
        "outputId": "6a948d11-ac45-495b-9a41-0b690918bdcd"
      },
      "source": [
        "# 5.Faça um código que pergunte o preço de três produtos e informe qual\n",
        "# produto você deve comprar, sabendo que a decisão ́e sempre pelo mais barato.\n",
        "\n",
        "precoProduto1 = int(input(\"Digite o preço do primeiro produto: \"))\n",
        "precoProduto2 = int(input(\"Digite o preço do segundo produto: \"))\n",
        "precoProduto3 = int(input(\"Digite o preço do terceiro produto: \"))\n",
        "\n",
        "if precoProduto1 < precoProduto2:\n",
        "    if precoProduto1 < precoProduto3:\n",
        "        print(\"Você deve comprar o primeiro produto!\")\n",
        "    else:\n",
        "        print(\"Você deve comprar o terceiro produto!\")\n",
        "else:\n",
        "    if precoProduto2 < precoProduto3:\n",
        "        print(\"Você deve comprar o segundo produto!\")\n",
        "    else:\n",
        "        print(\"Você deve comprar o terceiro produto!\")\n",
        "\n"
      ],
      "execution_count": null,
      "outputs": [
        {
          "output_type": "stream",
          "text": [
            "Digite o preço do primeiro produto: 12\n",
            "Digite o preço do segundo produto: 32\n",
            "Digite o preço do terceiro produto: 45\n",
            "Você deve comprar o primeiro produto!\n"
          ],
          "name": "stdout"
        }
      ]
    },
    {
      "cell_type": "code",
      "metadata": {
        "id": "yezLkx7hG-L0"
      },
      "source": [
        "# 6.Leia cinco números na seguinte ordem: float, int, int, string, float, e\n",
        "# mostre o tipo de cada um deles.\n",
        "\n",
        "primeiro = float(input(\"Escreva um valor: \"))\n",
        "segundo = int(input(\"Escreva um numero: \"))\n",
        "terceiro= int(input(\"Escreva outro numero: \"))\n",
        "quarto = str(input(\"Escreva seu nome: \"))\n",
        "quinto = float(input(\"Escreva seu peso: \"))\n",
        "  \n",
        "print(\"---------------..------------\")\n",
        "print(\"O primeiro: \", type (primeiro))\n",
        "print(\"O segundo: \", type (segundo))\n",
        "print(\"O terceiro: \", type (terceiro))\n",
        "print(\"O quarto: \", type (quarto))\n",
        "print(\"O quinto: \", type (quinto))\n",
        "\n",
        "\n",
        "\n"
      ],
      "execution_count": null,
      "outputs": []
    },
    {
      "cell_type": "code",
      "metadata": {
        "colab": {
          "base_uri": "https://localhost:8080/"
        },
        "id": "41S7tnp4YmJ4",
        "outputId": "4b2f86ff-ecbc-4940-da99-22292ba4ca22"
      },
      "source": [
        "azeV = 9.45\n",
        "acV = 2.12\n",
        "farV = 4.67\n",
        "ferV = 1.88\n",
        "vinV = 5.56\n",
        "\n",
        "azeQ = 3\n",
        "acQ = 10\n",
        "farQ = 2\n",
        "ferQ = 4\n",
        "vinQ = 2\n",
        "\n",
        "desA = acV * acQ * 00.3\n",
        "desV = vinV * vinQ * 0.10\n",
        "azeT = azeV * azeQ\n",
        "acT = acV * acQ - desA\n",
        "farT = farV * farQ\n",
        "ferT = ferV * ferQ\n",
        "vinT = vinV = vinQ - desV\n",
        "totalG = azeT + acT + farT + ferT + vinT\n",
        "\n",
        "print('______________________________________________________________________')\n",
        "print('| PRODUTO  | VALOR | QUANTIDADE | DESCONTO | TOTAL | TOTAL ACUMULADO |')\n",
        "print('|__________|_______|____________|__________|_______|_________________|')\n",
        "print('| AZEITONA | R$9,45|     3      |     0    |',round(azeT,2),'|',round(azeT,2),'          |')\n",
        "print('| AÇUCAR   | R$2,12|     10     |',round(desA,2),'    |',round(acT,2),'|',round(acV*acQ,2),'           |')\n",
        "print('| FARINHA  | R$4,67|     2      |     0    |',round(farT,2),' |',round(farT,2),'           |')\n",
        "print('| FERMENTO | R$1,88|     4      |     0    |',round(ferT,2),' |',round(ferT,2),'           |')\n",
        "print('| VINAGRE  | R$5,56|     2      |',round(desV,2),'    |',round(vinT,2),' |',round(vinV*vinQ,2),'           |')\n",
        "print('|__________|_______|____________|__________|_______|_________________|')\n",
        "print('|TOTAL GERAL: ', round(totalG,2),'                                                |')\n",
        "print('|____________________________________________________________________|')"
      ],
      "execution_count": 22,
      "outputs": [
        {
          "output_type": "stream",
          "text": [
            "______________________________________________________________________\n",
            "| PRODUTO  | VALOR | QUANTIDADE | DESCONTO | TOTAL | TOTAL ACUMULADO |\n",
            "|__________|_______|____________|__________|_______|_________________|\n",
            "| AZEITONA | R$9,45|     3      |     0    | 28.35 | 28.35           |\n",
            "| AÇUCAR   | R$2,12|     10     | 6.36     | 14.84 | 21.2            |\n",
            "| FARINHA  | R$4,67|     2      |     0    | 9.34  | 9.34            |\n",
            "| FERMENTO | R$1,88|     4      |     0    | 7.52  | 7.52            |\n",
            "| VINAGRE  | R$5,56|     2      | 1.11     | 0.89  | 1.78            |\n",
            "|__________|_______|____________|__________|_______|_________________|\n",
            "|TOTAL GERAL:  60.94                                                 |\n",
            "|____________________________________________________________________|\n"
          ],
          "name": "stdout"
        }
      ]
    },
    {
      "cell_type": "code",
      "metadata": {
        "id": "dgQ8EGyCkCdo"
      },
      "source": [
        ""
      ],
      "execution_count": null,
      "outputs": []
    }
  ]
}